{
 "cells": [
  {
   "cell_type": "code",
   "execution_count": 1,
   "metadata": {
    "collapsed": false
   },
   "outputs": [
    {
     "name": "stdout",
     "output_type": "stream",
     "text": [
      "[('2000', 169), ('1999', 166), ('2003', 166), ('2013', 166), ('2010', 165)]\n",
      "[('actor', 596), ('actress', 271), ('journalist', 180), ('author', 102), ('Journalist', 72)]\n",
      "[('Fareed Zakaria', 19), ('Denis Leary', 17), ('Brian Williams', 16), ('Paul Rudd', 13), ('Ricky Gervais', 13)]\n"
     ]
    }
   ],
   "source": [
    "import pyspark\n",
    "import csv\n",
    "import operator\n",
    "import itertools\n",
    "import collections\n",
    "\n",
    "if not 'sc' in globals():\n",
    "    sc = pyspark.SparkContext()\n",
    "               \n",
    "years = {}\n",
    "occupations = {}\n",
    "guests = {}\n",
    "\n",
    "#The file header contains these column descriptors\n",
    "#YEAR,GoogleKnowlege_Occupation,Show,Group,Raw_Guest_List\n",
    "\n",
    "with open('daily_show_guests.csv', 'r') as csvfile:    \n",
    "    reader = csv.DictReader(csvfile)\n",
    "    for row in reader:\n",
    "        year = row['YEAR']\n",
    "        if year in years:\n",
    "            years[year] = years[year] + 1\n",
    "        else:\n",
    "            years[year] = 1\n",
    "        \n",
    "        occupation = row['GoogleKnowlege_Occupation']\n",
    "        if occupation in occupations:\n",
    "            occupations[occupation] = occupations[occupation] + 1\n",
    "        else:\n",
    "            occupations[occupation] = 1\n",
    "            \n",
    "        guest = row['Raw_Guest_List']\n",
    "        if guest in guests:\n",
    "            guests[guest] = guests[guest] + 1\n",
    "        else:\n",
    "            guests[guest] = 1\n",
    "\n",
    "syears = sorted(years.items(), key=operator.itemgetter(1), reverse=True)\n",
    "soccupations = sorted(occupations.items(), key=operator.itemgetter(1), reverse=True)\n",
    "sguests = sorted(guests.items(), key=operator.itemgetter(1), reverse=True)\n",
    "\n",
    "print (syears[:5])\n",
    "print (soccupations[:5])\n",
    "print (sguests[:5])"
   ]
  },
  {
   "cell_type": "code",
   "execution_count": null,
   "metadata": {
    "collapsed": true
   },
   "outputs": [],
   "source": []
  }
 ],
 "metadata": {
  "kernelspec": {
   "display_name": "Python 3",
   "language": "python",
   "name": "python3"
  },
  "language_info": {
   "codemirror_mode": {
    "name": "ipython",
    "version": 3
   },
   "file_extension": ".py",
   "mimetype": "text/x-python",
   "name": "python",
   "nbconvert_exporter": "python",
   "pygments_lexer": "ipython3",
   "version": "3.5.0"
  }
 },
 "nbformat": 4,
 "nbformat_minor": 2
}
