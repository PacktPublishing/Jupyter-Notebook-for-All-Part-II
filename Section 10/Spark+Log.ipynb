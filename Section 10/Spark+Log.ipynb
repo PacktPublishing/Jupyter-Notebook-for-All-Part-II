{
 "cells": [
  {
   "cell_type": "code",
   "execution_count": 1,
   "metadata": {
    "collapsed": false
   },
   "outputs": [
    {
     "name": "stdout",
     "output_type": "stream",
     "text": [
      "1546 access records\n",
      "1525 GETs\n",
      "14 POSTs\n",
      "7 Other\n",
      "h194n2fls308o1033.telia.com - - [09/Mar/2004:13:49:05 -0800] \"-\" 408 -\n",
      "206-15-133-154.dialup.ziplink.net - - [11/Mar/2004:16:33:23 -0800] \"HEAD /twiki/bin/view/Main/SpamAssassinDeleting HTTP/1.1\" 200 0\n",
      "64.246.94.141 - - [10/Mar/2004:16:31:19 -0800] \"HEAD /twiki/bin/view/Main/SpamAssassinDeleting HTTP/1.1\" 200 0\n",
      "80-219-148-207.dclient.hispeed.ch - - [07/Mar/2004:19:47:36 -0800] \"OPTIONS * HTTP/1.0\" 200 -\n",
      "206-15-133-153.dialup.ziplink.net - - [09/Mar/2004:16:27:48 -0800] \"HEAD /twiki/bin/view/Main/SpamAssassinDeleting HTTP/1.1\" 200 0\n",
      "64.246.94.152 - - [08/Mar/2004:20:09:57 -0800] \"HEAD /twiki/bin/view/Main/SpamAssassinDeleting HTTP/1.1\" 200 0\n",
      "206-15-133-181.dialup.ziplink.net - - [07/Mar/2004:20:04:03 -0800] \"HEAD /twiki/bin/view/Main/SpamAssassinDeleting HTTP/1.1\" 200 0\n"
     ]
    }
   ],
   "source": [
    "import pyspark\n",
    "if not 'sc' in globals():\n",
    "    sc = pyspark.SparkContext()\n",
    "    \n",
    "textFile = sc.textFile(\"/Users/mac/Downloads/access_log\")\n",
    "print(textFile.count(),\"access records\")\n",
    "\n",
    "gets = textFile.filter(lambda line: \"GET\" in line)\n",
    "print(gets.count(),\"GETs\")\n",
    "\n",
    "posts = textFile.filter(lambda line: \"POST\" in line)\n",
    "print(posts.count(),\"POSTs\")\n",
    "\n",
    "other = textFile.subtract(gets).subtract(posts)\n",
    "print(other.count(),\"Other\")\n",
    "for x in other.collect():\n",
    "    print (x)"
   ]
  },
  {
   "cell_type": "code",
   "execution_count": null,
   "metadata": {
    "collapsed": true
   },
   "outputs": [],
   "source": []
  }
 ],
 "metadata": {
  "kernelspec": {
   "display_name": "Python 3",
   "language": "python",
   "name": "python3"
  },
  "language_info": {
   "codemirror_mode": {
    "name": "ipython",
    "version": 3
   },
   "file_extension": ".py",
   "mimetype": "text/x-python",
   "name": "python",
   "nbconvert_exporter": "python",
   "pygments_lexer": "ipython3",
   "version": "3.5.0"
  }
 },
 "nbformat": 4,
 "nbformat_minor": 2
}
